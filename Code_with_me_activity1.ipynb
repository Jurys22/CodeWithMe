{
  "nbformat": 4,
  "nbformat_minor": 0,
  "metadata": {
    "colab": {
      "provenance": [],
      "gpuType": "T4"
    },
    "kernelspec": {
      "name": "python3",
      "display_name": "Python 3"
    },
    "language_info": {
      "name": "python"
    },
    "accelerator": "GPU"
  },
  "cells": [
    {
      "cell_type": "markdown",
      "source": [
        "# Découvrir les modèles de langage en IA\n",
        "# Discover AI language models"
      ],
      "metadata": {
        "id": "hOyVL-LCt4w9"
      }
    },
    {
      "cell_type": "markdown",
      "source": [
        "BEFORE YOU BEGIN, please work from a copy of this notebook in your Google Drive (File > Save a copy in Drive).\n",
        "\n",
        "If you skip this step, any changes you make will not be saved.\n",
        "\n",
        "...\n",
        "\n",
        "AVANT DE COMMENCER, veuillez travailler à partir d'une copie de ce cahier dans votre Google Drive (Fichier > Enregistrer une copie dans Drive).\n",
        "\n",
        "Si vous sautez cette étape, les modifications que vous apporterez ne seront pas sauvegardées."
      ],
      "metadata": {
        "id": "J_FykeurX8Zn"
      }
    },
    {
      "cell_type": "markdown",
      "source": [
        "# Intro\n",
        "----\n",
        "\n",
        "This Colab notebook has been created for [Technovation Code With Me - AI](https://www.technovationmontreal.com/artificial-intelligence/en) workshop. While the main goal here is to learn how to use a LLM, you will also learn how to use Google Colab as well as HuggingFace and... Some python too! If you are new to all this, no worries! Keep reading and ask your mentor any questions!\n",
        "\n",
        "This is an introduction activity, the code has been already written for you, you just need to click some buttons to run it and explore! The code will be also commented, so that you can follow what is happening.\n",
        "\n",
        "----\n",
        "\n",
        "Ce cahier Colab a été créé pour l'atelier [Technovation Code Avec Moi - IA](https://www.technovationmontreal.com/artificial-intelligence/fr). Bien que l'objectif principal ici soit d'apprendre à utiliser un LLM, vous apprendrez également à utiliser Google Colab ainsi que HuggingFace et... Un peu de Python aussi ! Si vous êtes novice en la matière, ne vous inquiétez pas ! Continuez à lire et posez vos questions à votre mentor !\n",
        "\n",
        "Il s'agit d'une activité d'introduction, le code a déjà été écrit pour vous, il vous suffit de cliquer sur quelques boutons pour l'exécuter et explorer ! Le code sera également commenté, afin que vous puissiez suivre ce qui se passe."
      ],
      "metadata": {
        "id": "fJXmsJxD2USD"
      }
    },
    {
      "cell_type": "markdown",
      "source": [
        "# Let's present... Colab! Colab Enchantée !\n",
        "---\n",
        "\n",
        "COLABoratory is a free Google tool that allows you to write and execute Python code. What you are reading is called \"notebook\" and it's also where you will write and run your code.\n",
        "\n",
        "Whenever you see some code, you can run it by clicking on the play button [ ▶️ ] that you find on the left of the cell.\n",
        "\n",
        "In notebook you will find two types of cell: text cell (the one you are reading) and code cell (the one that allows you to write and run your code)\n",
        "\n",
        "Some useful actions that you can do with cells:\n",
        "\n",
        "*   To EDIT an existing cell, double click it\n",
        "*   To MOVE an existing cell, first select it, then use the ↑ or ↓ arrows on the upper right of the cell to change its position.\n",
        "*   To DELETE an existing cell, first select it, then click the trash can icon at the upper right of the cell. (pssst... If you ever want to undo a cell deletion, you can use the Edit dropdown menu above!)\n",
        "\n",
        "When you run your code, the result will appear after the code cell and you will see that a number will appear in between the brackets. This means that your code has finished its run and you can go to the next cell!\n",
        "\n",
        "Ok, before starting with some serious code, let's play with the cell under this text. Try out these actions (Run, edit, move, delete, undelete)\n",
        "\n",
        "----\n",
        "\n",
        "COLABoratory est un outil gratuit de Google qui vous permet d'écrire et d'exécuter du code Python. Ce que vous êtes en train de lire s'appelle un \"notebook\" et c'est également là que vous écrirez et exécuterez votre code.\n",
        "\n",
        "Chaque fois que vous voyez du code, vous pouvez l'exécuter en cliquant sur le bouton de lecture [ ▶️ ] que vous trouvez à gauche de la cellule.\n",
        "\n",
        "Dans le notebook, vous trouverez deux types de cellules : cellule de texte (celle que vous êtes en train de lire) et cellule de code (celle qui vous permet d'écrire et d'exécuter votre code).\n",
        "\n",
        "Quelques actions utiles que vous pouvez faire avec les cellules :\n",
        "\n",
        "*  Pour MODIFIER une cellule existante, double-cliquez-la.\n",
        "*  Pour DÉPLACER une cellule existante, sélectionnez-la d'abord, puis utilisez les flèches ↑ ou ↓ en haut à droite de la cellule pour changer sa position.\n",
        "*  Pour SUPPRIMER une cellule existante, sélectionnez-la d'abord, puis cliquez sur l'icône de la corbeille en haut à droite de la cellule. (psst... Si vous souhaitez annuler la suppression d'une cellule, vous pouvez utiliser le menu déroulant Édition ci-dessus !)\n",
        "\n",
        "Lorsque vous exécutez votre code, le résultat apparaîtra après la cellule de code et vous verrez qu'un numéro apparaîtra entre les crochets. Cela signifie que votre code a terminé son exécution et vous pouvez passer à la cellule suivante !\n",
        "\n",
        "D'accord, avant de commencer avec du code sérieux, jouons avec la cellule sous ce texte. Essayez ces actions (Exécuter, modifier, déplacer, supprimer, annuler la suppression).\n",
        "\n"
      ],
      "metadata": {
        "id": "o_886AMw3ZpM"
      }
    },
    {
      "cell_type": "code",
      "source": [
        "print(\"Hello World!\")\n",
        "print(\"yay! you just print some python code!! Congrats!\")"
      ],
      "metadata": {
        "id": "VqeydcW56EFB"
      },
      "execution_count": null,
      "outputs": []
    },
    {
      "cell_type": "code",
      "source": [
        "print(\"move me!\")\n",
        "print(\"bouge moi!\")"
      ],
      "metadata": {
        "id": "_cy2wz-16muh"
      },
      "execution_count": null,
      "outputs": []
    },
    {
      "cell_type": "markdown",
      "source": [
        "# it's time to .... LLM! On commence à jouer avec les LLMs !\n",
        "\n",
        "We will first run this cell to install the ingredients to have this beautiful LLM recipe. They are also called dependencies and packages for coders! It might take some time!\n",
        "\n",
        "---\n",
        "\n",
        "Nous allons d'abord exécuter cette cellule pour installer les ingrédients nécessaires à cette belle recette de LLM. Ils sont également appelés dépendances et paquets pour les codeurs ! Cette action pourrait prendre un peu de temps !"
      ],
      "metadata": {
        "id": "Qwp6o3ma6Szg"
      }
    },
    {
      "cell_type": "code",
      "execution_count": null,
      "metadata": {
        "id": "a3VSMQ73te_4"
      },
      "outputs": [],
      "source": [
        "import locale\n",
        "locale.getpreferredencoding = lambda: \"UTF-8\"\n",
        "\n",
        "import warnings\n",
        "warnings.filterwarnings('ignore')\n",
        "\n",
        "!pip install torch transformers accelerate"
      ]
    },
    {
      "cell_type": "markdown",
      "source": [
        "# Import the model from HuggingFace. Importons le modèle depuis HuggingFace\n",
        "\n",
        "Here you will import any packages and the model itself(togethercomputer/RedPajama-INCITE-Chat-3B-v1) from HuggingFace. Isn't it exciting? This model has been created by people here in Montréal!\n",
        "\n",
        "---\n",
        "\n",
        "Ici, vous importerez les packages et le modèle lui-même (togethercomputer/RedPajama-INCITE-Chat-3B-v1) de HuggingFace. N'est-ce pas excitant ? Ce modèle a été créé par des personnes ici à Montréal !"
      ],
      "metadata": {
        "id": "is5IMl7ptn5h"
      }
    },
    {
      "cell_type": "code",
      "source": [
        "import torch\n",
        "from transformers import AutoModelForCausalLM, AutoTokenizer, StoppingCriteria, StoppingCriteriaList, TextIteratorStreamer\n",
        "\n",
        "tokenizer = AutoTokenizer.from_pretrained(\"togethercomputer/RedPajama-INCITE-Chat-3B-v1\")\n",
        "model = AutoModelForCausalLM.from_pretrained(\"togethercomputer/RedPajama-INCITE-Chat-3B-v1\", torch_dtype=torch.float16)\n",
        "model = model.to('cuda:0')"
      ],
      "metadata": {
        "id": "-xJgJcWTtqhN"
      },
      "execution_count": null,
      "outputs": []
    },
    {
      "cell_type": "markdown",
      "source": [
        "# Let's ask the model a question! C'est le temps de poser une question\n",
        "\n",
        "Remember: be responsible! First rule!\n",
        "\n",
        "As you might notice we don't have a chatbot yet, so we need to communicate with the model in its own way.\n",
        "\n",
        "What you see in \"input_text\" variable is our \"prompt\" It displays \"<human>\" and \"\\n<bot>\" These are magic words for the model to understand who is talking. Of course you are the human who's asking a question to the bot. So you will finish your question by always putting a \"\\n<bot>\" at the end of the string.\n",
        "\n",
        "String... speaking of this! It's everything between this symbol \" \"\n",
        "\n",
        "Did you notice some of the parameters we discussed during the workshop? Well, it's time to play with them and be surprised!\n",
        "\n",
        "Remember: a model is not perfect, it can hallucinate. Be responsible and critic. Have fun!\n",
        "\n",
        "----\n",
        "\n",
        "Rappelez-vous : soyez responsable ! Première règle !\n",
        "\n",
        "Comme vous pouvez le remarquer, nous n'avons pas encore un chatbot, donc nous devons communiquer avec le modèle à sa manière.\n",
        "\n",
        "Ce que vous voyez dans la variable \"input_text\" est notre \"prompt\". Il affiche \"<humain>\" et \"\\n<bot>\". Ce sont des mots magiques pour que le modèle comprenne qui parle. Bien sûr, vous êtes l'humain qui pose une question au bot. Donc, vous finirez votre question en mettant toujours un \"\\n<bot>\" à la fin de la chaîne.\n",
        "\n",
        "Chaîne... en parlant de ça ! C'est tout ce qui se trouve entre ce symbole \" \"\n",
        "\n",
        "Avez-vous remarqué certains des paramètres que nous avons discutés lors de l'atelier ? Eh bien, c'est le moment de jouer avec eux et d'être surpris !\n",
        "\n",
        "Rappelez-vous : un modèle n'est pas parfait, il peut halluciner. Soyez responsable et critique. Amusez-vous !"
      ],
      "metadata": {
        "id": "rkPHlG9R7T47"
      }
    },
    {
      "cell_type": "code",
      "source": [
        "input_text = \"<human> : They often displaying affection through purring. Who are they?\\n<bot>:\"\n",
        "input_ids = tokenizer(input_text, return_tensors=\"pt\").to(\"cuda\")\n",
        "outputs = model.generate(**input_ids,\n",
        "                         max_new_tokens=80,\n",
        "                        do_sample=True,\n",
        "                        top_p=0.95,\n",
        "                        # top_k=1000,\n",
        "                        temperature=0.6,\n",
        "                        num_beams=1)\n",
        "\n",
        "# output no stopping criteria: print(tokenizer.decode(outputs[0]))\n",
        "reply = tokenizer.decode(outputs[0])\n",
        "position_EOS = reply.find(\"\\n<human>\")\n",
        "output_string = reply[:position_EOS]\n",
        "print(output_string)"
      ],
      "metadata": {
        "id": "PRVLnwIA0r9y"
      },
      "execution_count": null,
      "outputs": []
    }
  ]
}
